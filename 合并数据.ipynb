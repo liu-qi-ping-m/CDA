{
 "cells": [
  {
   "cell_type": "markdown",
   "metadata": {},
   "source": [
    "# 合并4年的数据"
   ]
  },
  {
   "cell_type": "code",
   "execution_count": 1,
   "metadata": {},
   "outputs": [],
   "source": [
    "import xlrd\n",
    "import pandas as pd\n",
    "import time"
   ]
  },
  {
   "cell_type": "code",
   "execution_count": 2,
   "metadata": {},
   "outputs": [],
   "source": [
    "filename = ['本地户存活周期研究(2015-08-01至2016-07-31)', '本地户存活周期研究(2016-08-01至2017-07-31)',\n",
    "            '本地户存活周期研究(2017-08-01至2018-07-31)', '本地户存活周期研究(2018-08-01至2019-07-31)']\n",
    "desktop_root_direct = \"C:/Users/liuqiping/Desktop/\""
   ]
  },
  {
   "cell_type": "code",
   "execution_count": 3,
   "metadata": {},
   "outputs": [
    {
     "name": "stdout",
     "output_type": "stream",
     "text": [
      "119566 21\n",
      "123796 21\n",
      "139279 21\n",
      "147372 21\n",
      "程序运行时间：405.5974998474121\n"
     ]
    }
   ],
   "source": [
    "def read_data():    # 读取Excel数据\n",
    "    data_list = []\n",
    "    for file in filename:\n",
    "        workbook = xlrd.open_workbook(desktop_root_direct+file+\".xlsx\")\n",
    "        worksheet = workbook.sheet_by_index(0)\n",
    "        nrows = worksheet.nrows\n",
    "        ncols = worksheet.ncols\n",
    "        print(nrows, ncols)\n",
    "        dicts = {}\n",
    "        for colnum in range(0, ncols):\n",
    "            coldata = worksheet.col_values(colnum)\n",
    "            dicts[coldata[0]] = coldata[1:]\n",
    "        data_list.append(dicts)\n",
    "    return data_list\n",
    "\n",
    "def merge_data(data_list):  # 利用pd.merge()函数合并filename文件数据\n",
    "    left = pd.DataFrame(data_list[0])\n",
    "    result = 0\n",
    "    for i in range(1, len(data_list)):\n",
    "        right = pd.DataFrame(data_list[i])\n",
    "        result = pd.merge(left, right, how=\"outer\",\n",
    "                          on=[\"账户ID\", \"账户名称\", \"账户一级行业\", \"账户二级行业\", \"账户三级行业\", \"账号\", \"首次消费日\", \"注册日期\", \"分析行业\"])\n",
    "        left = result\n",
    "    result_df = pd.DataFrame(result)\n",
    "    result_df.to_excel(desktop_root_direct+\"本地户存活周期研究_合并结果.xlsx\", index=False)\n",
    "\n",
    "if __name__ == '__main__':\n",
    "    start = time.time()\n",
    "    data_list = read_data()\n",
    "    merge_data(data_list)\n",
    "    end = time.time()\n",
    "    print(\"程序运行时间：\"+str(end-start))"
   ]
  }
 ],
 "metadata": {
  "kernelspec": {
   "display_name": "Python 3",
   "language": "python",
   "name": "python3"
  },
  "language_info": {
   "codemirror_mode": {
    "name": "ipython",
    "version": 3
   },
   "file_extension": ".py",
   "mimetype": "text/x-python",
   "name": "python",
   "nbconvert_exporter": "python",
   "pygments_lexer": "ipython3",
   "version": "3.7.4"
  }
 },
 "nbformat": 4,
 "nbformat_minor": 2
}
